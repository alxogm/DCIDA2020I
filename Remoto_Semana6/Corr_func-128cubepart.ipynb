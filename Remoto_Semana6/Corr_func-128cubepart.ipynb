{
 "cells": [
  {
   "cell_type": "code",
   "execution_count": null,
   "metadata": {},
   "outputs": [],
   "source": [
    "%pylab inline\n",
    "import numpy as np\n",
    "from random import random\n",
    "from scipy.interpolate import interp1d\n",
    "from astroML.correlation import two_point\n",
    "import matplotlib.pyplot as plt\n",
    "#We use astroML function two_point. "
   ]
  },
  {
   "cell_type": "markdown",
   "metadata": {},
   "source": [
    "In this notebook we show a simple way to use astroML libray to compute the two_point correlation function\n",
    "on a simulated data set. The simulation is a cosmological box of $L=512{\\rm  Mpc} h^{-1}$ (we'll omit the h everywhere), and $128^3$ particles. The cosmological model used was a LCDM. "
   ]
  },
  {
   "cell_type": "code",
   "execution_count": null,
   "metadata": {},
   "outputs": [],
   "source": [
    "#Read the true power spectrum used to generate the simulation. \n",
    "Pk=np.loadtxt('./input_spectrum.dat')\n",
    "pk_=interp1d(Pk[:,0],Pk[:,1])\n",
    "kh=10**np.linspace(-4,2,5000)\n",
    "def xi_true():\n",
    "    pk_h=pk_(kh)\n",
    "    # Compute the correlation  function from the true  P(k) used in the simulation. Fourier Transform. \n",
    "    kstart =0\n",
    "    kcut = 10\n",
    "    kcut_ind = np.argmin(abs(kh - kcut))\n",
    "#print 'kcut_ind=', kcut_ind\n",
    "#print 'kcut=', kh[kcut_ind]\n",
    "\n",
    "    r_start = 1\n",
    "    r_end = 150\n",
    "    r_stepsize = 1\n",
    "    r_list = np.arange(r_start, r_end, r_stepsize)\n",
    "\n",
    "    xi = np.zeros(len(r_list))\n",
    "    factor = np.power(kh[kstart:kcut_ind],2) * pk_h[kstart:kcut_ind] / (kh[kstart:kcut_ind]*2*np.pi**2)\n",
    "    for i in range(0, len(r_list)):\n",
    "        IntegrandXi0 = factor * np.sin(kh[kstart:kcut_ind]*r_list[i]) / r_list[i]\n",
    "        xi[i] = np.trapz(IntegrandXi0,kh[kstart:kcut_ind])\n",
    "    return r_list, xi"
   ]
  },
  {
   "cell_type": "code",
   "execution_count": null,
   "metadata": {},
   "outputs": [],
   "source": [
    "#Plot the mass power spectrum. Just to see how it looks like... \n",
    "plt.plot(kh,pk_(kh))\n",
    "plt.yscale('log')\n",
    "plt.xscale('log')\n",
    "plt.ylim(1e-4,1e5)\n",
    "plt.xlim(2e-5,2e2)\n",
    "plt.xlabel('k')\n",
    "plt.ylabel('P(k)')"
   ]
  },
  {
   "cell_type": "code",
   "execution_count": null,
   "metadata": {},
   "outputs": [],
   "source": [
    "#Read the data, note that here I'm using my original files,\n",
    "#not those I shared with you. Which are just N random points from the full box. \n",
    "#This data is separated in a 10 slices of ~50Mpc. \n",
    "\n",
    "\n",
    "path='./' #path to where the files are located. \n",
    "data=np.loadtxt(path+'example_128_z0p000.0')\n",
    "print(len(data))\n",
    "for i in range(1,10):\n",
    "    data_=np.loadtxt(path+'example_128_z0p000.'+np.str(i))\n",
    "    data=np.vstack((data,data_))"
   ]
  },
  {
   "cell_type": "code",
   "execution_count": null,
   "metadata": {},
   "outputs": [],
   "source": [
    "#Plot all points projected in the xy plane.  \n",
    "fig=plt.figure(figsize=(10,10))\n",
    "plt.scatter(x,y,s=0.1,color='blue',alpha=0.05)\n",
    "plt.xlim(0,512)\n",
    "plt.ylim(0,512)\n",
    "plt.xlabel('x[Mpc]')\n",
    "plt.ylabel('y [Mpc]')"
   ]
  },
  {
   "cell_type": "code",
   "execution_count": null,
   "metadata": {},
   "outputs": [],
   "source": [
    "#Since I read the full data set it is about 2M particcles. \n",
    "#To compute the CF for this could take really long so I'll use only a random subset of the particles.\n",
    "# This is what I did also to produce the smaller files I shared. \n",
    "#Calculation with 250K takes a while, so I'd suggest to start with less. \n",
    "w=np.random.choice(len(data),50000)\n",
    "#Notice this data has both positions and velocities, we only use positions. \n",
    "pos=[[x,y,z] for [x,y,z,vx,vy,vz] in data[w]]\n",
    "pos=np.asarray(pos)\n",
    "#fname=\"prueba_10k\"\n",
    "#np.save(fname,pos)"
   ]
  },
  {
   "cell_type": "code",
   "execution_count": null,
   "metadata": {},
   "outputs": [],
   "source": []
  },
  {
   "cell_type": "code",
   "execution_count": null,
   "metadata": {},
   "outputs": [],
   "source": [
    "#Now, compute the correlation function for the 1<r<150 with the Standard estimator.\n",
    "bins=np.linspace(1.,130,40)\n",
    "corr=two_point(pos,bins,method='standard')"
   ]
  },
  {
   "cell_type": "code",
   "execution_count": null,
   "metadata": {},
   "outputs": [],
   "source": [
    "#Now, compute the correlation function for the 1<r<150 with the Landy-Szalay estimator.\n",
    "corr2=two_point(pos,bins,method='landy-szalay')"
   ]
  },
  {
   "cell_type": "code",
   "execution_count": null,
   "metadata": {},
   "outputs": [],
   "source": [
    "#Now, compute the correlation function for the 1<r<150 with the Landy-Szalay method.\n",
    "r=0.5*(bins[1:] + bins[:-1])\n",
    "\n",
    "r2corr=np.power(r,2)*(corr)\n",
    "r2corr2=np.power(r,2)*(corr2)\n",
    "\n",
    "\n",
    "plot(r,r2corr,label='Standard')\n",
    "plot(r,r2corr2,color='r',label='Landy')\n",
    "\n",
    "xlim(0,200)\n",
    "ylim(-20,50)\n",
    "plt.legend()\n"
   ]
  },
  {
   "cell_type": "code",
   "execution_count": null,
   "metadata": {},
   "outputs": [],
   "source": [
    "r_,xi=xi_true()\n",
    "\n",
    "plt.plot(r,r2corr,label='Standard')\n",
    "plt.plot(r,r2corr2,color='r',label='Landy')\n",
    "plt.plot(r_, np.power(r_,2)*xi ,label='linear')\n",
    "#legend()\n",
    "plt.xlim(0,200)\n",
    "plt.ylim(-20,50)\n",
    "plt.xlabel(r'$r[Mpc]$')\n",
    "plt.ylabel(r'$r^2\\xi(r)$')\n",
    "plt.legend()\n",
    "\n"
   ]
  },
  {
   "cell_type": "code",
   "execution_count": null,
   "metadata": {},
   "outputs": [],
   "source": []
  }
 ],
 "metadata": {
  "kernelspec": {
   "display_name": "Python 3",
   "language": "python",
   "name": "python3"
  },
  "language_info": {
   "codemirror_mode": {
    "name": "ipython",
    "version": 3
   },
   "file_extension": ".py",
   "mimetype": "text/x-python",
   "name": "python",
   "nbconvert_exporter": "python",
   "pygments_lexer": "ipython3",
   "version": "3.8.2"
  }
 },
 "nbformat": 4,
 "nbformat_minor": 1
}
